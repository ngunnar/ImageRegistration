{
 "cells": [
  {
   "cell_type": "markdown",
   "metadata": {},
   "source": [
    "# Rigid body transformation in 2D"
   ]
  },
  {
   "cell_type": "code",
   "execution_count": 20,
   "metadata": {},
   "outputs": [],
   "source": []
  },
  {
   "cell_type": "markdown",
   "metadata": {},
   "source": [
    "### Translation\n",
    "\n",
    "\\begin{equation*}\n",
    "   X^\\tau = f(B) = TX\n",
    "\\end{equation*}\n",
    "\n",
    "\n",
    "DOF: 2\n",
    "\n",
    "\\begin{equation*}\n",
    "    T = \\begin{bmatrix}\n",
    "    1 & 0 & t_x \\\\\n",
    "    0 & 1 & t_y \\\\    \n",
    "    0 & 0 & 1 \\\\\n",
    "    \\end{bmatrix}\n",
    "\\end{equation*}\n",
    "\n",
    "### Rigid\n",
    "DOF: 3\n",
    "\n",
    "\\begin{equation*}\n",
    "    T = \\begin{bmatrix}\n",
    "    \\cos(\\theta) & -\\sin(\\theta) & t_x \\\\\n",
    "    \\sin(\\theta) & \\cos(\\theta)  & t_y \\\\    \n",
    "    0 & 0 & 1 \\\\\n",
    "    \\end{bmatrix}\n",
    "\\end{equation*}\n",
    "\n",
    "### Similarity\n",
    "DOF: 4\n",
    "\\begin{equation*}\n",
    "    T = \\begin{bmatrix}\n",
    "    s\\cos(\\theta) & -s\\sin(\\theta) & t_x \\\\\n",
    "    s\\sin(\\theta) & s\\cos(\\theta)  & t_y \\\\\n",
    "    0 & 0 & 1 \\\\\n",
    "    \\end{bmatrix}\n",
    "\\end{equation*}\n",
    "\n",
    "### Affine\n",
    "DOF: 6\n",
    "\\begin{equation*}\n",
    "    T = \\begin{bmatrix}\n",
    "    s_x\\cos(\\theta) & -s_{xy}\\sin(\\theta) & t_x \\\\\n",
    "    s_{xy}\\sin(\\theta) & s_y\\cos(\\theta) & t_y \\\\    \n",
    "    0 & 0 & 1 \\\\\n",
    "    \\end{bmatrix}\n",
    "\\end{equation*}\n",
    "\n",
    "### Projective\n",
    "DOF: 8\n",
    "\\begin{equation*}\n",
    "    T = \\begin{bmatrix}\n",
    "    A & t \\\\\n",
    "    v^T & v \\\\\n",
    "    \\end{bmatrix}\n",
    "\\end{equation*}\n"
   ]
  },
  {
   "cell_type": "code",
   "execution_count": 21,
   "metadata": {},
   "outputs": [],
   "source": [
    "import numpy as np\n",
    "# Translation\n",
    "tx = 1\n",
    "ty = 2\n",
    "T = np.array([[1, 0, tx],[0, 1, ty],[0,0,1]], dtype=float)\n",
    "\n",
    "# Rigid\n",
    "tx = 1\n",
    "ty = 2\n",
    "theta = np.pi/10\n",
    "T = np.array([[np.cos(theta), -np.sin(theta), tx],[np.sin(theta), np.cos(theta), ty],[0,0,1]], dtype=float)\n",
    "\n",
    "# Similarity\n",
    "tx = 1\n",
    "ty = 2\n",
    "theta = np.pi/10\n",
    "s = 2\n",
    "T = np.array([[s*np.cos(theta), -s*np.sin(theta), tx],[s*np.sin(theta), s*np.cos(theta), ty],[0,0,1]], dtype=float)\n",
    "\n",
    "# Affine\n",
    "tx = 1\n",
    "ty = 2\n",
    "theta = np.pi/10\n",
    "sx = 2\n",
    "sy = 1\n",
    "sxy = 0.5\n",
    "T = np.array([[sx*np.cos(theta), -sxy*np.sin(theta), tx],[sxy*np.sin(theta), sy*np.cos(theta), ty],[0,0,1]], dtype=float)"
   ]
  },
  {
   "cell_type": "markdown",
   "metadata": {},
   "source": [
    "## Points based registration\n",
    "\n",
    "### Procrustes problem\n",
    "\n",
    "Point-based registration involves identifying corresponding three-dimensional points in the image to be aligned, registering the points and inferring the image transformation from the transformation determined from the points. Using notation ${x_A^i}_{i=1,...,N}$ in image $A$ and ${x_B^i}_{i=1,...,N}$ in image $B$ corresponding to the set of features ${x^i}_{i=1,...,N}$ in the object, and find the transformation that aligns them in a least square sense. The corresponding points are sometimes called homologous landmarks to emphasize that they should represent the same feature in the different images.\n",
    "\n",
    "#### Solution\n",
    "The classical Procrustes problem, i.e $T \\in \\{\\text{rigid body transformations}\\}$ has known solutions. A matrix representation of the rotational part can be computed using singular-value decomposition (SVD).\n",
    "\n",
    "First replace $P$ and $Q$ by their demeaned versions, as the optimal transformation is form centroid the centroid\n",
    "\n",
    "\\begin{equation*}\n",
    "    p_i \\rightarrow  p_i - \\bar{p}\n",
    "\\end{equation*}\n",
    "\\begin{equation*}\n",
    "    q_i \\rightarrow  q_i - \\bar{q}\n",
    "\\end{equation*}\n",
    "\n",
    "This reduces the problem to the orthogonal Procrustes problem in which we wish to determine the orthogonal rotation $R$. Central to the problem is the D-by-D correlation matrix $K:=P^tQ$, as this matrix quantifies how much the points in $Q$ are 'predicted' by points in $P$. If $P=[p_1^t,...,p_N^t]^t$ is a matrix of row vectors and the same for $Q$), $K=\\sum_iK_i$ where $K_i:=p_iq_i^t$ then\n",
    "\n",
    "\\begin{equation*}\n",
    "    K = UDV^t \\Rightarrow R=V\\Delta U^T  \\text{ where } \\Delta:=diag(1,1,det(VU^t)\n",
    "\\end{equation*}\n",
    "\n",
    "where $K=UDV^t$ is the SVD of $K$.\n",
    "It is essential for most medical registration application that $R$ does not include any reflections. This can be detected from the determinant of $VU^t$, which should be +1 for a rotation with no reflection, and will be -1 if there is a reflection. In the above equation, $\\Delta$ takes this into account.\n",
    "\n",
    "Finally the translation $t$ is given by $t = \\bar{q} - R\\bar{p}$"
   ]
  },
  {
   "cell_type": "code",
   "execution_count": 68,
   "metadata": {},
   "outputs": [
    {
     "name": "stdout",
     "output_type": "stream",
     "text": [
      "Rotation: [[ 0.  1.]\n",
      " [-1.  0.]]\n",
      "Translation: [0. 0.]\n"
     ]
    }
   ],
   "source": [
    "import numpy as np\n",
    "# Points\n",
    "P = np.array([[0,1],[0,2],[0,3],[0,4],[0,5],[0,6],[0,7]])\n",
    "Q = np.array([[1,0],[2,0],[3,0],[4,0],[5,0],[6,0],[7,0]])\n",
    "\n",
    "# Demeaned version\n",
    "pm = np.mean(P, axis=0)\n",
    "qm = np.mean(Q, axis=0)\n",
    "P = P - pm\n",
    "Q = Q - qm\n",
    "\n",
    "K = np.dot(P.T,Q)\n",
    "U, D, Vt = np.linalg.svd(K, full_matrices=True)\n",
    "det = np.linalg.det(np.dot(Vt.T, U.T))\n",
    "grad = np.identity(2)\n",
    "grad[1,1] = det\n",
    "\n",
    "R = Vt.T.dot(grad).dot(U.T)\n",
    "t = qm - np.dot(R,pm)\n",
    "print(\"Rotation: {0}\".format(R))\n",
    "print(\"Translation: {0}\".format(t))"
   ]
  },
  {
   "cell_type": "markdown",
   "metadata": {},
   "source": [
    "## Intensity based registration\n",
    "\n",
    "Image registration using voxel similarity measure involves determining the transformation $\\tau$ that relates the domain of image $A$ to image $B$. This transformation can then be usied to transform one image into the coordinates of the second within the region of overlap of the two domains $\\Omega_{A,B}^T$. This process involves interpolation and needs to take account of the differences in sample spacing in image $A$ and $B$. Therefor using pixel index when dealing with image registration is never a good idea. Instead take image spacing and origin into account and use the actual pixel position."
   ]
  },
  {
   "cell_type": "code",
   "execution_count": 69,
   "metadata": {},
   "outputs": [],
   "source": [
    "class Image:\n",
    "    def __init__(self, values, spacing, origin):\n",
    "        self.Values = values\n",
    "        self.Spacing = spacing\n",
    "        self.Origin = origin"
   ]
  },
  {
   "cell_type": "markdown",
   "metadata": {},
   "source": [
    "### Interpolation\n",
    "\n",
    "The most widely used image interpolation function is probably trilinear - (for 3D) and bilinear interpolation (for 2D), in which a voxel value in the transformed coordinates is estimated by taking a weighted average of the nearest eight neighbours in the original dataset. The weightings, which add up to one, are inversely proportional to the distance of each neighbour to the new sample point.\n",
    "\n",
    "#### Bilinear interpolation\n",
    "Suppose that we want to find the value of the unknown function $f$ at the point $(x, y)$. It is assumed that we know the value of $f$ at the four points $Q_{11} = (x_1, y_1), Q_{12} = (x_1, y_2), Q_{21} = (x_2, y_1)$, and $Q_{22} = (x_2, y_2)$.\n",
    "\n",
    "We first do linear interpolation in the x-direction. This yields\n",
    "\n",
    "\\begin{equation*}\n",
    "    f(x,y_1) \\approx \\dfrac{x_2-x}{x_2-x_1}f(Q_{11}) + \\dfrac{x-x_1}{x_2-x_1}f(Q_{21})\n",
    "\\end{equation*}\n",
    "\\begin{equation*}\n",
    "    f(x,y_2) \\approx \\dfrac{x_2-x}{x_2-x_1}f(Q_{12}) + \\dfrac{x-x_1}{x_2-x_1}f(Q_{22})\n",
    "\\end{equation*}\n",
    "\n",
    "We proceed by interpolating in the y direction to obtain the desired estimate\n",
    "\n",
    "\\begin{equation*}\n",
    "f(x,y) \\approx \\frac{y_2-y}{y_2-y_1} f(x, y_1) + \\frac{y-y_1}{y_2-y_1} f(x, y_2) \\\\\n",
    "= \\frac{y_2-y}{y_2-y_1} \\left ( \\frac{x_2-x}{x_2-x_1} f(Q_{11}) + \\frac{x-x_1}{x_2-x_1} f(Q_{21}) \\right ) + \\frac{y-y_1}{y_2-y_1} \\left ( \\frac{x_2-x}{x_2-x_1} f(Q_{12}) + \\frac{x-x_1}{x_2-x_1} f(Q_{22}) \\right ) \\\\\n",
    "= \\frac{1}{(x_2-x_1)(y_2-y_1)} \\big( f(Q_{11})(x_2-x)(y_2-y) + f(Q_{21})(x-x_1)(y_2-y)+  f(Q_{12})(x_2-x)(y-y_1) + f(Q_{22})(x-x_1)(y-y_1) \\big)\\\\\n",
    "=\\frac{1}{(x_2-x_1)(y_2-y_1)}  \\begin{bmatrix} x_2-x & x-x_1 \\end{bmatrix} \\begin{bmatrix} f(Q_{11}) & f(Q_{12}) \\\\ f(Q_{21})& f(Q_{22}) \\end{bmatrix} \\begin{bmatrix}\n",
    "y_2-y \\\\ y-y_1 \\end{bmatrix}.\n",
    "\\end{equation*}"
   ]
  },
  {
   "cell_type": "code",
   "execution_count": 115,
   "metadata": {},
   "outputs": [],
   "source": [
    "def BilinearInterpolate(x, y, I):\n",
    "    \"\"\"Bilinear interpolation of Image.\n",
    "    Input:\n",
    "        x - x position\n",
    "        y - y position\n",
    "        I - Image\n",
    "    Output: \n",
    "        Interpolated intensity value I(x,y).\n",
    "    \"\"\"  \n",
    "    i1 = math.floor((x - I.Origin[0] ) / I.Spacing[0])\n",
    "    i2 = i1 + 1\n",
    "    \n",
    "    if(i2 >= I.Values.shape[0]): # Boundary check\n",
    "        i2 = i1   \n",
    "    \n",
    "    x1 = i1 * I.Spacing[0] + I.Origin[0]\n",
    "    x2 = i2 * I.Spacing[0] + I.Origin[0]\n",
    "        \n",
    "    j1 = math.floor((y - I.Origin[1] ) / I.Spacing[1])\n",
    "    j2 = j1 + 1\n",
    "    \n",
    "    if(j2 >= I.Values.shape[1]): # Boundary check\n",
    "        j2 = j1\n",
    "    \n",
    "    y1 = j1 * I.Spacing[1] + I.Origin[1]  \n",
    "    y2 = j2 * I.Spacing[1] + I.Origin[1]  \n",
    "    \n",
    "    e = 1 / ((x2-x1)*(y2-y1) + 1e-5)\n",
    "    X_diff = np.array([x2-x, x-x1], dtype=float, ndmin=2)\n",
    "    fQ = np.array([[I.Values[i1,j1], I.Values[i1,j2]],[I.Values[i2,j1], I.Values[i2,j2]]], dtype=float, ndmin=2)    \n",
    "    Y_diff = np.array([[y2-y],[y-y1]], dtype=float, ndmin=2)\n",
    "    return e * X_diff.dot(fQ).dot(Y_diff)"
   ]
  },
  {
   "cell_type": "markdown",
   "metadata": {},
   "source": [
    "### Transformation"
   ]
  },
  {
   "cell_type": "code",
   "execution_count": 121,
   "metadata": {},
   "outputs": [
    {
     "data": {
      "text/plain": [
       "<matplotlib.image.AxesImage at 0x1fcb6fd7860>"
      ]
     },
     "execution_count": 121,
     "metadata": {},
     "output_type": "execute_result"
    },
    {
     "data": {
      "image/png": "[encoded data removed]",
      "text/plain": [
       "<Figure size 432x288 with 2 Axes>"
      ]
     },
     "metadata": {
      "needs_background": "light"
     },
     "output_type": "display_data"
    }
   ],
   "source": [
    "import math\n",
    "def Transform(B, A, T, nullFill = True):\n",
    "    \"\"\"Transform image B into image A cordinate system using affine transformation matrix T.\n",
    "    Input:\n",
    "        A - Reference image of type Image\n",
    "        B - Moving Image of type Image\n",
    "        T - [3x3] Affine transformation matrix\n",
    "    Output: \n",
    "        Image A' transformed into Bs cordinate system.\n",
    "    \"\"\"  \n",
    "    invT = np.linalg.inv(T)\n",
    "    \n",
    "    if not nullFill:\n",
    "        tImg = np.zeros(A.Values.shape, dtype=float) # TODO how should it be initilized\n",
    "    else:    \n",
    "        tImg = np.full(A.Values.shape, None, dtype=float) # TODO how should it be initilized    \n",
    "    (minX, minY, maxX, maxY) = getExtremeValues(B)\n",
    "    for i in range(tImg.shape[0]):\n",
    "        for j in range(tImg.shape[1]):\n",
    "            x = i * A.Spacing[0] + A.Origin[0]\n",
    "            y = j * A.Spacing[1] + A.Origin[1]\n",
    "            pos = np.dot(invT, np.array([x,y,1], dtype=float, copy=True))            \n",
    "            if not (minX <= pos[0] <= maxX and minY <= pos[1] <= maxY): # Boundary check\n",
    "                continue            \n",
    "            val = BilinearInterpolate(pos[0], pos[1], B)\n",
    "            tImg[i,j] = val\n",
    "    return Image(tImg, A.Spacing, A.Origin)\n",
    "\n",
    "# Load Data\n",
    "t1_img = nib.load('mni_icbm152_nlin_asym_09a_nifti/mni_icbm152_nlin_asym_09a/mni_icbm152_t1_tal_nlin_asym_09a.nii')\n",
    "t1_data = t1_img.get_fdata()\n",
    "data = t1_data[:, :, 94]\n",
    "\n",
    "origin = np.array([-data.shape[0]/2,-data.shape[1]/2])\n",
    "spacing = np.array([1,1])\n",
    "A = Image(data, spacing, origin)\n",
    "\n",
    "## Transform data\n",
    "theta_opt = np.pi/10\n",
    "a_opt = np.cos(theta_opt)\n",
    "b_opt = -np.sin(theta_opt)\n",
    "tx_opt = 4\n",
    "d_opt = np.sin(theta_opt)\n",
    "e_opt = np.cos(theta_opt)\n",
    "ty_opt = 0\n",
    "T_opt = np.array([[a_opt, b_opt, tx_opt],[d_opt, e_opt, ty_opt],[0,0,1]], dtype=float)\n",
    "b_spacing = np.array([1,1])\n",
    "b_origin = np.array([-mi_data.shape[0]/2,-mi_data.shape[1]/2])\n",
    "B = Transform(A, Image(np.zeros(data.shape), b_spacing, b_origin), T_opt, False)\n",
    "\n",
    "# Plot data\n",
    "ax = plt.subplot(2,2,1)\n",
    "ax.imshow(A.Values)\n",
    "ax = plt.subplot(2,2,2)\n",
    "ax.imshow(B.Values)"
   ]
  },
  {
   "cell_type": "markdown",
   "metadata": {},
   "source": [
    "## Cost Functions\n",
    "\n",
    "### Sum of squared differences (SSD)\n",
    "One of the simplest voxel similarity measures is the sum of squared differences between images, SSD, which is minimizied during registation. For $N$ voxels in the overlap domain $\\Omega_{A,B}^T$\n",
    "\n",
    "\\begin{equation*}\n",
    "    SSD = \\dfrac{1}{N} \\sum_{X_\\Lambda \\in \\Omega_{A,B}^T} |A(x_A) + B^\\tau(x_A)|^2\n",
    "\\end{equation*}\n",
    "\n",
    "It is necessary to divide by the number of voxels $N$ in the overlap domain because $N=\\sum_{\\Omega_{A,B}^T} 1$ may vary with each estimate of $\\tau$. The SSD measure is widely used for serial MR registrations."
   ]
  },
  {
   "cell_type": "code",
   "execution_count": 117,
   "metadata": {},
   "outputs": [
    {
     "name": "stdout",
     "output_type": "stream",
     "text": [
      "383.6326807380542\n"
     ]
    }
   ],
   "source": [
    "def Residual(A, B):\n",
    "    \"\"\"Calculate the residual for the intensity values in image A and B on domain A\n",
    "    Input:\n",
    "        A - Reference image of type Image\n",
    "        B - Moving Image of type Image\n",
    "    Output: \n",
    "        an array with the residual values\n",
    "    \"\"\"\n",
    "    residual = []\n",
    "    for i in range(A.Values.shape[0]):\n",
    "        for j in range(A.Values.shape[1]):\n",
    "            if A.Values[i,j] != A.Values[i,j]: # Null check                \n",
    "                continue                \n",
    "            x = i * A.Spacing[0] + A.Origin[0]\n",
    "            y = j * A.Spacing[1] + A.Origin[1]            \n",
    "            f_r = BilinearInterpolate(x=x, y=y, I=B)\n",
    "            residual.append(A.Values[i,j] - f_r)\n",
    "    return np.array([residual], dtype=float).T\n",
    "\n",
    "def SSD_cost(residual):\n",
    "    \"\"\"Calculate the sum of squared differences (SSD) between intensity values of image A and B\n",
    "    Input:\n",
    "        residual - the residual in every point of the given domain (Ai - Bi)\n",
    "    Output: \n",
    "        the cost\n",
    "    \"\"\"\n",
    "    return np.sum(residual**2)/residual.size\n",
    "\n",
    "r = Residual(A,B)\n",
    "cost = SSD_cost(r)\n",
    "print(cost)"
   ]
  },
  {
   "cell_type": "markdown",
   "metadata": {},
   "source": [
    "### Sum of absolute differences (SAD)\n",
    "\n",
    "The SSD measure is very sensitive to a small number of voxels that have large intensity differences between image $A$ and $B$. This might arise, for example, in contrast material is injected into the patient between the acquisition of image $A$ and $B$ or if the images are acquired during an intervention and instrumetns are in different position relative to the subject in the two acquisitions. The effect of these 'outlier' voxels can be reduced by using the sum of absolute differences, SAD radther than SSD:\n",
    "\n",
    "\\begin{equation*}\n",
    "    SAD = \\dfrac{1}{N} \\sum_{X_\\Lambda \\in \\Omega_{A,B}^T} |A(x_A) + B^\\tau(x_A)|\n",
    "\\end{equation*}"
   ]
  },
  {
   "cell_type": "code",
   "execution_count": 119,
   "metadata": {},
   "outputs": [
    {
     "name": "stdout",
     "output_type": "stream",
     "text": [
      "12.707849643692251\n"
     ]
    }
   ],
   "source": [
    "def SAD_cost(residual):\n",
    "    \"\"\"Calculate the sum of absolute differences (SAD) between intensity values of image A and B\n",
    "    Input:\n",
    "        residual - the residual in every point of the given domain (Ai - Bi)\n",
    "    Output: \n",
    "        the cost\n",
    "    \"\"\"\n",
    "    return np.sum(np.abs(residual))/residual.size\n",
    "\n",
    "r = Residual(A,B)\n",
    "cost = SAD_cost(r)\n",
    "print(cost)"
   ]
  },
  {
   "cell_type": "markdown",
   "metadata": {},
   "source": [
    "## Optimization\n"
   ]
  },
  {
   "cell_type": "code",
   "execution_count": 1,
   "metadata": {},
   "outputs": [],
   "source": [
    "%load_ext autoreload\n",
    "%reload_ext autoreload\n",
    "%autoreload 2\n",
    "import ImageRegistration as ir\n",
    "import numpy as np\n",
    "import matplotlib.pyplot as plt\n",
    "import nibabel as nib"
   ]
  },
  {
   "cell_type": "code",
   "execution_count": 3,
   "metadata": {},
   "outputs": [
    {
     "name": "stdout",
     "output_type": "stream",
     "text": [
      "(197, 233)\n"
     ]
    },
    {
     "data": {
      "text/plain": [
       "<matplotlib.image.AxesImage at 0x1fcb4771b70>"
      ]
     },
     "execution_count": 3,
     "metadata": {},
     "output_type": "execute_result"
    },
    {
     "data": {
      "image/png": "[encoded data removed]",
      "text/plain": [
       "<Figure size 432x288 with 2 Axes>"
      ]
     },
     "metadata": {
      "needs_background": "light"
     },
     "output_type": "display_data"
    }
   ],
   "source": [
    "# 1 Define images\n",
    "## Moving Image\n",
    "t1_img = nib.load('mni_icbm152_nlin_asym_09a_nifti/mni_icbm152_nlin_asym_09a/mni_icbm152_t1_tal_nlin_asym_09a.nii')\n",
    "t1_data = t1_img.get_fdata()\n",
    "mi_data = t1_data[:, :, 94]\n",
    "print(mi_data.shape)\n",
    "mi_origin = np.array([-mi_data.shape[0]/2,-mi_data.shape[1]/2])\n",
    "mi_spacing = np.array([1,1])\n",
    "mi_org = ir.Image(mi_data, mi_spacing, mi_origin)\n",
    "\n",
    "## Create ReferenceImage\n",
    "theta_opt = np.pi/10\n",
    "a_opt = np.cos(theta_opt)\n",
    "b_opt = -np.sin(theta_opt)\n",
    "tx_opt = 4\n",
    "d_opt = np.sin(theta_opt)\n",
    "e_opt = np.cos(theta_opt)\n",
    "ty_opt = 0\n",
    "T_opt = np.array([[a_opt, b_opt, tx_opt],[d_opt, e_opt, ty_opt],[0,0,1]], dtype=float)\n",
    "r_spacing = np.array([1,1])\n",
    "r_origin = np.array([-mi_data.shape[0]/2,-mi_data.shape[1]/2])\n",
    "r_org = ir.Transform(mi_org, ir.Image(np.zeros(mi_data.shape), r_spacing, r_origin), T_opt, False)\n",
    "ax = plt.subplot(2,2,1)\n",
    "ax.imshow(mi_org.Values)\n",
    "\n",
    "ax = plt.subplot(2,2,2)\n",
    "ax.imshow(r_org.Values)"
   ]
  },
  {
   "cell_type": "code",
   "execution_count": null,
   "metadata": {},
   "outputs": [],
   "source": []
  },
  {
   "cell_type": "code",
   "execution_count": null,
   "metadata": {},
   "outputs": [],
   "source": []
  },
  {
   "cell_type": "code",
   "execution_count": 72,
   "metadata": {},
   "outputs": [
    {
     "name": "stdout",
     "output_type": "stream",
     "text": [
      "e: 0 cost: 383.24426717658656\n"
     ]
    },
    {
     "ename": "TypeError",
     "evalue": "'Image' object is not subscriptable",
     "output_type": "error",
     "traceback": [
      "\u001b[1;31m---------------------------------------------------------------------------\u001b[0m",
      "\u001b[1;31mTypeError\u001b[0m                                 Traceback (most recent call last)",
      "\u001b[1;32m<ipython-input-72-4530d10a1609>\u001b[0m in \u001b[0;36m<module>\u001b[1;34m()\u001b[0m\n\u001b[0;32m     28\u001b[0m     \u001b[0mprint\u001b[0m\u001b[1;33m(\u001b[0m\u001b[1;34m\"e: {0} cost: {1}\"\u001b[0m\u001b[1;33m.\u001b[0m\u001b[0mformat\u001b[0m\u001b[1;33m(\u001b[0m\u001b[0me\u001b[0m\u001b[1;33m,\u001b[0m \u001b[0mcost\u001b[0m\u001b[1;33m)\u001b[0m\u001b[1;33m)\u001b[0m\u001b[1;33m\u001b[0m\u001b[0m\n\u001b[0;32m     29\u001b[0m     \u001b[1;32mfor\u001b[0m \u001b[0mi\u001b[0m \u001b[1;32min\u001b[0m \u001b[0mrange\u001b[0m\u001b[1;33m(\u001b[0m\u001b[0mm\u001b[0m\u001b[1;33m)\u001b[0m\u001b[1;33m:\u001b[0m\u001b[1;33m\u001b[0m\u001b[0m\n\u001b[1;32m---> 30\u001b[1;33m         \u001b[0mdA\u001b[0m \u001b[1;33m=\u001b[0m \u001b[0mdA\u001b[0m \u001b[1;33m+\u001b[0m \u001b[1;36m2\u001b[0m \u001b[1;33m*\u001b[0m \u001b[1;33m(\u001b[0m\u001b[0mU\u001b[0m\u001b[1;33m[\u001b[0m\u001b[0mi\u001b[0m\u001b[1;33m,\u001b[0m\u001b[1;36m0\u001b[0m\u001b[1;33m]\u001b[0m \u001b[1;33m*\u001b[0m \u001b[1;33m(\u001b[0m\u001b[0mXprim\u001b[0m\u001b[1;33m[\u001b[0m\u001b[0mi\u001b[0m\u001b[1;33m,\u001b[0m\u001b[1;36m0\u001b[0m\u001b[1;33m]\u001b[0m \u001b[1;33m-\u001b[0m \u001b[0mX\u001b[0m\u001b[1;33m[\u001b[0m\u001b[0mi\u001b[0m\u001b[1;33m,\u001b[0m\u001b[1;36m0\u001b[0m\u001b[1;33m]\u001b[0m\u001b[1;33m)\u001b[0m\u001b[1;33m)\u001b[0m\u001b[1;33m\u001b[0m\u001b[0m\n\u001b[0m\u001b[0;32m     31\u001b[0m         \u001b[0mdB\u001b[0m \u001b[1;33m=\u001b[0m \u001b[0mdA\u001b[0m \u001b[1;33m+\u001b[0m \u001b[1;36m2\u001b[0m \u001b[1;33m*\u001b[0m \u001b[1;33m(\u001b[0m\u001b[0mU\u001b[0m\u001b[1;33m[\u001b[0m\u001b[0mi\u001b[0m\u001b[1;33m,\u001b[0m\u001b[1;36m1\u001b[0m\u001b[1;33m]\u001b[0m \u001b[1;33m*\u001b[0m \u001b[1;33m(\u001b[0m\u001b[0mXprim\u001b[0m\u001b[1;33m[\u001b[0m\u001b[0mi\u001b[0m\u001b[1;33m,\u001b[0m\u001b[1;36m0\u001b[0m\u001b[1;33m]\u001b[0m \u001b[1;33m-\u001b[0m \u001b[0mX\u001b[0m\u001b[1;33m[\u001b[0m\u001b[0mi\u001b[0m\u001b[1;33m,\u001b[0m\u001b[1;36m0\u001b[0m\u001b[1;33m]\u001b[0m\u001b[1;33m)\u001b[0m \u001b[1;33m-\u001b[0m \u001b[0mU\u001b[0m\u001b[1;33m[\u001b[0m\u001b[0mi\u001b[0m\u001b[1;33m,\u001b[0m\u001b[1;36m0\u001b[0m\u001b[1;33m]\u001b[0m \u001b[1;33m*\u001b[0m \u001b[1;33m(\u001b[0m\u001b[0mXprim\u001b[0m\u001b[1;33m[\u001b[0m\u001b[0mi\u001b[0m\u001b[1;33m,\u001b[0m\u001b[1;36m1\u001b[0m\u001b[1;33m]\u001b[0m \u001b[1;33m-\u001b[0m \u001b[0mX\u001b[0m\u001b[1;33m[\u001b[0m\u001b[0mi\u001b[0m\u001b[1;33m,\u001b[0m\u001b[1;36m1\u001b[0m\u001b[1;33m]\u001b[0m\u001b[1;33m)\u001b[0m\u001b[1;33m)\u001b[0m\u001b[1;33m\u001b[0m\u001b[0m\n\u001b[0;32m     32\u001b[0m         \u001b[0mdC\u001b[0m \u001b[1;33m=\u001b[0m \u001b[0mdC\u001b[0m \u001b[1;33m+\u001b[0m \u001b[1;36m2\u001b[0m \u001b[1;33m*\u001b[0m \u001b[1;33m(\u001b[0m\u001b[0mU\u001b[0m\u001b[1;33m[\u001b[0m\u001b[0mi\u001b[0m\u001b[1;33m,\u001b[0m\u001b[1;36m1\u001b[0m\u001b[1;33m]\u001b[0m \u001b[1;33m*\u001b[0m \u001b[1;33m(\u001b[0m\u001b[0mXprim\u001b[0m\u001b[1;33m[\u001b[0m\u001b[0mi\u001b[0m\u001b[1;33m,\u001b[0m\u001b[1;36m1\u001b[0m\u001b[1;33m]\u001b[0m \u001b[1;33m-\u001b[0m \u001b[0mX\u001b[0m\u001b[1;33m[\u001b[0m\u001b[0mi\u001b[0m\u001b[1;33m,\u001b[0m\u001b[1;36m1\u001b[0m\u001b[1;33m]\u001b[0m\u001b[1;33m)\u001b[0m\u001b[1;33m)\u001b[0m\u001b[1;33m\u001b[0m\u001b[0m\n",
      "\u001b[1;31mTypeError\u001b[0m: 'Image' object is not subscriptable"
     ]
    }
   ],
   "source": [
    "# Initial guess T\n",
    "mi = ir.Image(values=np.copy(mi_org.Values), spacing=mi_org.Spacing, origin= mi_org.Origin)\n",
    "mi.Values = (mi.Values - np.mean(mi.Values))\n",
    "\n",
    "r = ir.Image(values=np.copy(r_org.Values), spacing=r_org.Spacing, origin= r_org.Origin)\n",
    "r.Values = (r.Values - np.mean(r.Values))\n",
    "\n",
    "theta = 0\n",
    "a = np.cos(theta)\n",
    "b = -np.sin(theta)\n",
    "c = np.cos(theta)\n",
    "tx = 0\n",
    "ty = 0\n",
    "T = np.array([[a, b, tx],[-b, a, ty],[0,0,1]], dtype=float)\n",
    "alphaR = 1e-5\n",
    "alphaT = 1e-2\n",
    "for e in range(3000):    \n",
    "    dA = 0\n",
    "    dB = 0\n",
    "    dC = 0\n",
    "    dTx = 0\n",
    "    dTy = 0\n",
    "    dTheta = 0    \n",
    "    Xprim = ir.Transform(mi, r, T)    \n",
    "    diff = (Xprim.Values.T - r.Values.T)\n",
    "    m = diff.size\n",
    "    cost = 1/m * np.sum((diff)**2)\n",
    "    print(\"e: {0} cost: {1}\".format(e, cost))\n",
    "    for i in range(m):        \n",
    "        dA = dA + 2 * (U[i,0] * (Xprim[i,0] - X[i,0]))\n",
    "        dB = dA + 2 * (U[i,1] * (Xprim[i,0] - X[i,0]) - U[i,0] * (Xprim[i,1] - X[i,1]))\n",
    "        dC = dC + 2 * (U[i,1] * (Xprim[i,1] - X[i,1]))\n",
    "        dTx = dTx + 2 * ((Xprim[i,0] - X[i,0]))\n",
    "        dTy = dTy + 2 * ((Xprim[i,1] - X[i,1]))\n",
    "    at = a\n",
    "    a = at - alphaR * dA    \n",
    "    bt = b\n",
    "    b = bt - alphaR * dB    \n",
    "    ct = c\n",
    "    c = ct - alphaR * dC    \n",
    "    txt = tx\n",
    "    tx = txt - alphaT * dTx    \n",
    "    tyt = ty\n",
    "    ty = tyt - alphaT * dTy\n",
    "    print(\"tx(t+1): {0} tx(t): {1} dTx: {2}\".format(tx, txt, dTx))\n",
    "    print(\"ty(t+1): {0} ty(t): {1} dTy: {2}\".format(ty, tyt, dTy))\n",
    "    if False:\n",
    "        print(\"a(t+1): {0} a(t): {1} dA: {2}\".format(a, at, dA))\n",
    "        print(\"b(t+1): {0} b(t): {1} dB: {2}\".format(b, bt, dB))    \n",
    "        print(\"c(t+1): {0} c(t): {1} dC: {2}\".format(c, ct, dC))\n",
    "        \n",
    "    T = np.array([[a, b, tx],[-b, a, ty],[0,0,1]], dtype=float)   \n",
    "    \n",
    "print(T)\n",
    "print(np.cos(theta_opt))\n",
    "print(tx_opt)\n",
    "print(ty_opt)\n",
    "TImage = ir.Transform(image = mi, refImg= r, T=T,nullFill=False)\n",
    "\n",
    "ax = plt.subplot(2,2,1)\n",
    "ax.imshow(TImage.Values)\n",
    "\n",
    "ax = plt.subplot(2,2,2)\n",
    "ax.imshow(r_org.Values)"
   ]
  },
  {
   "cell_type": "code",
   "execution_count": 352,
   "metadata": {},
   "outputs": [
    {
     "data": {
      "text/plain": [
       "nan"
      ]
     },
     "execution_count": 352,
     "metadata": {},
     "output_type": "execute_result"
    }
   ],
   "source": []
  },
  {
   "cell_type": "code",
   "execution_count": null,
   "metadata": {},
   "outputs": [],
   "source": []
  },
  {
   "cell_type": "code",
   "execution_count": 74,
   "metadata": {},
   "outputs": [
    {
     "ename": "TypeError",
     "evalue": "Transform() got an unexpected keyword argument 'image'",
     "output_type": "error",
     "traceback": [
      "\u001b[1;31m---------------------------------------------------------------------------\u001b[0m",
      "\u001b[1;31mTypeError\u001b[0m                                 Traceback (most recent call last)",
      "\u001b[1;32m<ipython-input-74-528a27fc9a10>\u001b[0m in \u001b[0;36m<module>\u001b[1;34m()\u001b[0m\n\u001b[0;32m     69\u001b[0m                 \u001b[1;33m,\u001b[0m\u001b[1;33m[\u001b[0m\u001b[1;33m-\u001b[0m\u001b[0mP\u001b[0m\u001b[1;33m[\u001b[0m\u001b[1;36m1\u001b[0m\u001b[1;33m,\u001b[0m\u001b[1;36m0\u001b[0m\u001b[1;33m]\u001b[0m\u001b[1;33m,\u001b[0m \u001b[0mP\u001b[0m\u001b[1;33m[\u001b[0m\u001b[1;36m2\u001b[0m\u001b[1;33m,\u001b[0m\u001b[1;36m0\u001b[0m\u001b[1;33m]\u001b[0m\u001b[1;33m,\u001b[0m \u001b[0mP\u001b[0m\u001b[1;33m[\u001b[0m\u001b[1;36m4\u001b[0m\u001b[1;33m,\u001b[0m\u001b[1;36m0\u001b[0m\u001b[1;33m]\u001b[0m\u001b[1;33m]\u001b[0m\u001b[1;33m\u001b[0m\u001b[0m\n\u001b[0;32m     70\u001b[0m                 ,[0,0,1]], dtype=float)\n\u001b[1;32m---> 71\u001b[1;33m     \u001b[0mmo\u001b[0m \u001b[1;33m=\u001b[0m \u001b[0mTransform\u001b[0m\u001b[1;33m(\u001b[0m\u001b[0mimage\u001b[0m\u001b[1;33m=\u001b[0m\u001b[0mmi\u001b[0m\u001b[1;33m,\u001b[0m \u001b[0mrefImg\u001b[0m\u001b[1;33m=\u001b[0m\u001b[0mr\u001b[0m\u001b[1;33m,\u001b[0m \u001b[0mT\u001b[0m\u001b[1;33m=\u001b[0m\u001b[0mT\u001b[0m\u001b[1;33m,\u001b[0m \u001b[0mnullFill\u001b[0m\u001b[1;33m=\u001b[0m\u001b[1;32mTrue\u001b[0m\u001b[1;33m)\u001b[0m\u001b[1;33m\u001b[0m\u001b[0m\n\u001b[0m\u001b[0;32m     72\u001b[0m     \u001b[0mresidual\u001b[0m \u001b[1;33m=\u001b[0m \u001b[0mGetResidual\u001b[0m\u001b[1;33m(\u001b[0m\u001b[0mmo\u001b[0m\u001b[1;33m,\u001b[0m \u001b[0mr\u001b[0m\u001b[1;33m,\u001b[0m \u001b[0mT\u001b[0m\u001b[1;33m)\u001b[0m\u001b[1;33m\u001b[0m\u001b[0m\n\u001b[0;32m     73\u001b[0m     \u001b[0mcost\u001b[0m \u001b[1;33m=\u001b[0m \u001b[0mCalculateCost\u001b[0m\u001b[1;33m(\u001b[0m\u001b[0mresidual\u001b[0m\u001b[1;33m)\u001b[0m\u001b[1;33m\u001b[0m\u001b[0m\n",
      "\u001b[1;31mTypeError\u001b[0m: Transform() got an unexpected keyword argument 'image'"
     ]
    }
   ],
   "source": [
    "# Intensity based with Gauss Newton\n",
    "def CalculateCost(residual):\n",
    "    return np.sum(residual**2)/residual.size\n",
    "\n",
    "def GetResidual(m,r,T):\n",
    "    residual = []       \n",
    "    for i in range(m.Values.shape[0]):\n",
    "        for j in range(m.Values.shape[1]):\n",
    "            if m.Values[i,j] != m.Values[i,j]: # Null check                \n",
    "                continue                \n",
    "            x = i * m.Spacing[0] + m.Origin[0]\n",
    "            y = j * m.Spacing[1] + m.Origin[1]            \n",
    "            f_r = ir.BilinearInterpolate(x=x, y=y, image=r)         \n",
    "            residual.append(m.Values[i,j] - f_r)\n",
    "    return np.array([residual], dtype=float).T\n",
    "\n",
    "def GetJacobian(m, P):\n",
    "    a = P[0,0]\n",
    "    b = P[1,0]\n",
    "    c = P[2,0]\n",
    "    tx = P[3,0]\n",
    "    ty = P[4,0]\n",
    "    T = np.array([[a, b, tx],[-b, c, ty],[0,0,1]], dtype=float)\n",
    "    h = 1e-4\n",
    "    J = []    \n",
    "    for i in range(m.Values.shape[0]):\n",
    "        for j in range(m.Values.shape[1]):\n",
    "            if m.Values[i,j] != m.Values[i,j]: # Null check                \n",
    "                continue                \n",
    "            x = i * m.Spacing[0] + m.Origin[0]\n",
    "            y = j * m.Spacing[1] + m.Origin[1]            \n",
    "            U = np.linalg.solve(T, np.array([[x,y,1]], dtype=float).T)\n",
    "            u = U[0,0]\n",
    "            v = U[1,0]            \n",
    "            f_mxh1 = ir.BilinearInterpolate(x=x+h, y=y, image=m)\n",
    "            f_mxh2 = ir.BilinearInterpolate(x=x-h, y=y, image=m)\n",
    "            f_myh1 = ir.BilinearInterpolate(x=x, y=y+h, image=m)\n",
    "            f_myh2 = ir.BilinearInterpolate(x=x, y=y-h, image=m)\n",
    "            dfx = (f_mxh1 - f_mxh2)/(2*h)\n",
    "            dfy = (f_myh1 - f_myh2)/(2*h)\n",
    "            \n",
    "            # 5 parameters            \n",
    "            dA = u*dfx\n",
    "            dB = -u*dfx + v*dfy\n",
    "            dC = v*dfx\n",
    "            dtx = dfx\n",
    "            dty = dfy\n",
    "            j = [dA, dB, dC, dtx, dty]\n",
    "                        \n",
    "            J.append(j)\n",
    "    return np.array(J, dtype=float)\n",
    "\n",
    "theta = 0\n",
    "a = np.cos(theta)\n",
    "b = -np.sin(theta)\n",
    "c = np.cos(theta)\n",
    "tx = 0\n",
    "ty = 0\n",
    "P = np.array([[a, b, c, tx, ty]], dtype=float).T\n",
    "\n",
    "mi = ir.Image(values=np.copy(mi_org.Values), spacing=mi_org.Spacing, origin= mi_org.Origin)\n",
    "mi.Values = (mi.Values - np.mean(mi.Values))\n",
    "\n",
    "r = ir.Image(values=np.copy(r_org.Values), spacing=r_org.Spacing, origin= r_org.Origin)\n",
    "r.Values = (r.Values - np.mean(r.Values))\n",
    "alpha = np.array([[1],[1],[1],[1],[1]])\n",
    "for i in range(10):\n",
    "    T = np.array([[P[0,0], P[1,0], P[3,0]]\n",
    "                ,[-P[1,0], P[2,0], P[4,0]]\n",
    "                ,[0,0,1]], dtype=float)\n",
    "    mo = Transform(image=mi, refImg=r, T=T, nullFill=True)    \n",
    "    residual = GetResidual(mo, r, T)\n",
    "    cost = CalculateCost(residual)\n",
    "    J = GetJacobian(mo, P)\n",
    "    P = P + alpha * np.linalg.solve(np.dot(J.T, J), np.dot(J.T,residual))\n",
    "    print(\"Episode: {0}, Cost: {1}\".format(i, cost))\n",
    "    print(\"P: {0}\".format(P.T))\n",
    "\n",
    "#print(residual)\n",
    "#print(cost)\n",
    "ax = plt.subplot(2,3,1)\n",
    "ax.imshow(mi.Values)\n",
    "\n",
    "ax = plt.subplot(2,3,2)\n",
    "ax.imshow(mo.Values)\n",
    "\n",
    "ax = plt.subplot(2,3,3)\n",
    "ax.imshow(r.Values)"
   ]
  },
  {
   "cell_type": "code",
   "execution_count": 440,
   "metadata": {},
   "outputs": [
    {
     "ename": "ImportError",
     "evalue": "No module named 'cv2'",
     "output_type": "error",
     "traceback": [
      "\u001b[1;31m---------------------------------------------------------------------------\u001b[0m",
      "\u001b[1;31mImportError\u001b[0m                               Traceback (most recent call last)",
      "\u001b[1;32m<ipython-input-440-c8ec22b3e787>\u001b[0m in \u001b[0;36m<module>\u001b[1;34m()\u001b[0m\n\u001b[1;32m----> 1\u001b[1;33m \u001b[1;32mimport\u001b[0m \u001b[0mcv2\u001b[0m\u001b[1;33m\u001b[0m\u001b[0m\n\u001b[0m",
      "\u001b[1;31mImportError\u001b[0m: No module named 'cv2'"
     ]
    }
   ],
   "source": []
  }
 ],
 "metadata": {
  "kernelspec": {
   "display_name": "Python [conda root]",
   "language": "python",
   "name": "conda-root-py"
  },
  "language_info": {
   "codemirror_mode": {
    "name": "ipython",
    "version": 3
   },
   "file_extension": ".py",
   "mimetype": "text/x-python",
   "name": "python",
   "nbconvert_exporter": "python",
   "pygments_lexer": "ipython3",
   "version": "3.5.6"
  }
 },
 "nbformat": 4,
 "nbformat_minor": 2
}
