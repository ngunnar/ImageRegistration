{
 "cells": [
  {
   "cell_type": "markdown",
   "metadata": {},
   "source": [
    "## Introduction"
   ]
  },
  {
   "cell_type": "code",
   "execution_count": 86,
   "metadata": {},
   "outputs": [
    {
     "data": {
      "text/plain": [
       "<matplotlib.image.AxesImage at 0x15b68667198>"
      ]
     },
     "execution_count": 86,
     "metadata": {},
     "output_type": "execute_result"
    },
    {
     "data": {
      "image/png": "[encoded data removed]",
      "text/plain": [
       "<Figure size 432x288 with 2 Axes>"
      ]
     },
     "metadata": {
      "needs_background": "light"
     },
     "output_type": "display_data"
    }
   ],
   "source": [
    "import numpy as np\n",
    "import matplotlib.pyplot as plt\n",
    "import pydicom\n",
    "from pydicom.data import get_testdata_files\n",
    "\n",
    "# Dataset\n",
    "#A = np.array([[1, 0, 1, 0], [0, 1, 0, 0],[0, 0, 0, 0], [0,0,0,0]], dtype=float)\n",
    "#B = np.array([[0, 0, 0, 0], [0, 0, 0, 2],[0, 0, 2, 0], [0,0,0,2]], dtype=float)\n",
    "\n",
    "A = np.array([[1, 1, 0, 0], [0, 0, 0, 0],[0, 0, 0, 0], [0,0,0,0]], dtype=float)\n",
    "B = np.array([[0, 0, 0, 0], [0, 0, 2, 0],[0, 0, 2, 0], [0,0,0,0]], dtype=float)\n",
    "\n",
    "#filename = get_testdata_files(\"MR_small.dcm\")[0]\n",
    "#dataset = pydicom.read_file(filename)\n",
    "#A = np.array(dataset.pixel_array, copy=True)\n",
    "#rollx = 10\n",
    "#rolly = 0\n",
    "#B = np.copy(A)\n",
    "#B = np.roll(B, rollx, axis=0)\n",
    "#B = np.roll(B, rolly, axis=1)\n",
    "\n",
    "\n",
    "# Plot images\n",
    "ax = plt.subplot(2,2,1)\n",
    "ax.imshow(A)\n",
    "\n",
    "ax = plt.subplot(2,2,2)\n",
    "ax.imshow(B)"
   ]
  },
  {
   "cell_type": "markdown",
   "metadata": {},
   "source": [
    "\n",
    "\n",
    "# Optimization model\n",
    "## Cross correlation\n",
    "Normalized cross correlation ($NCC$). If $A$ is the reference image and $B$ is input image, the object of image registration is to bring the input image into alignment by applying a spartial transformation to the input image,\n",
    "\n",
    "\\begin{equation}\n",
    "T^* = \\underset{T} {\\text{arg max}} S\\{A,T[B]\\}\n",
    "\\end{equation}\n",
    "\n",
    "$S$ represents the measurement of similarity, $T$ represents the transformation matrix, The aim is to find $S$ similiarity between the images. \n",
    "\n",
    "\\begin{equation}\n",
    "T =\n",
    "\\begin{bmatrix}\n",
    "   \\cos{\\theta} & -\\sin{\\theta} & t_x \\\\\n",
    "   \\sin{\\theta} & \\cos{\\theta} & t_y \\\\\n",
    "   0 & 0 & 1\n",
    "   \\end{bmatrix}\n",
    "\\end{equation}\n",
    "\n",
    "By using $NCC$ similarity and rigid transformation model (which consists of two translation parameters $t_x$ and $t_y$ and one rotation parameter $\\theta$) the $NCC$ will look like\n",
    "\n",
    "\\begin{equation}\n",
    "NCC(A,B) = \\dfrac{1}{N} \\sum_{(x,y)}{ \\dfrac{(A-\\mu_A)(B-\\mu_B)}{\\sigma_A \\sigma_B}}\n",
    "\\end{equation}\n",
    "\n",
    "where $N$ denotes the total number of pixels in image $A$ and $B$, $\\mu_A$ and $\\mu_B$ denote the average of the images, and $\\sigma_A$ and $\\sigma_B$ denote the standard deviation. Therefore, the model can be rewritten as\n",
    "\n",
    "\\begin{equation}\n",
    "T^* = \\underset{t_x, t_y, \\theta} {\\text{arg max}} NCC(A,T(B)) = \n",
    " \\dfrac{1}{N} \\underset{t_x, t_y, \\theta} {\\text{arg max}} \\sum_{(x,y)}{ \\dfrac{(A-\\mu_A)(T(B)-\\mu_{T(B)})}{\\sigma_A \\sigma_{T(B)}}}\n",
    "\\end{equation}\n"
   ]
  },
  {
   "cell_type": "code",
   "execution_count": 71,
   "metadata": {},
   "outputs": [],
   "source": [
    "def NCC_sum(A, B):\n",
    "    assert(A.shape == B.shape)\n",
    "    muA = np.mean(A)\n",
    "    muB = np.mean(B)\n",
    "    sigmaA = np.std(A)\n",
    "    sigmaB = np.std(B)\n",
    "    #A_vec = np.asarray(A).reshape(-1)\n",
    "    #B_vec = np.asarray(B).reshape(-1)\n",
    "    N =  np.size(A)\n",
    "    return 1/N * np.sum((A-muA)*(B-muB)/(sigmaA*sigmaB))\n",
    "    #ncc_1 = 1/N * (A_vec-muA).dot((B_vec-muB).T) / (sigmaA * sigmaB)\n",
    "    #ncc = 0\n",
    "    #for i in range(N):\n",
    "    #    ncc = ncc + NCC(A_vec[i], B_vec[i], muA, muB, sigmaA, sigmaB)\n",
    "    #return ncc / N\n",
    "\n",
    "def NCC_mat(A, B):\n",
    "    muA = np.mean(A)\n",
    "    muB = np.mean(B)\n",
    "    sigmaA = np.std(A)\n",
    "    sigmaB = np.std(B)\n",
    "    return (A-muA)*(B-muB)/(sigmaA*sigmaB)\n",
    "#def NCC(a, b, muA, muB, sigmaA, sigmaB):    \n",
    "#    return (a-muA)*(b-muB)/(sigmaA * sigmaB)\n",
    "\n"
   ]
  },
  {
   "cell_type": "markdown",
   "metadata": {},
   "source": [
    "## Spline pyramids\n"
   ]
  },
  {
   "cell_type": "code",
   "execution_count": null,
   "metadata": {},
   "outputs": [],
   "source": []
  },
  {
   "cell_type": "markdown",
   "metadata": {},
   "source": [
    "## Optimization algorithm\n",
    "\n",
    "### Firefly algorithm\n",
    "\n",
    "Nature inspired algorithm based on flashing behaviors of firefly swarm. The primary purpose for the flash is to signal tha attract other fireflies.\n",
    "\n",
    "Three rules:\n",
    "1. All fireflies are unisex so that on firefly will be attacted to other fireflies regarding to their sex\n",
    "2. An important and interesting behavior fo fireflies is to flow brigher mainly to attract pray an the share food with others.\n",
    "3. Attractiveness is proportinal to their brigthness, thus agent firstly moves toward a neightbor that glows brighter.\n",
    "\n",
    "The fireflies are randomly distributed in the search space. The fireflies carry a luminescence quality, called liciferin, which emits lighter propotional to quality. Each firefly is attracted by lighter glow of other approximated fireflies. The attractiveness decreases as their distance increases. If there is no brighter one within the scope of a firefly, it will move randomly in the search space. In this application the decision variables are the three spatial tranform parameters $t_x$, $t_y$ and $\\theta$. The brightness is associated as the objective function which maximum the $NCC$. The procedure is typed into two phases, variation of light intensit and movement towards attractive flies.\n",
    "\n",
    "#### Variation of light intensity\n",
    "\n",
    "\\begin{equation}\n",
    "I_i = f(x_i), 1\\leq i \\leq n\n",
    "\\end{equation}\n",
    "\n",
    "#### Movement towards attractive flies\n",
    "\n",
    "\\begin{equation}\n",
    "\\beta_r(i,j) = \\beta_0 e^{-\\gamma r(i.j)^2}\n",
    "\\end{equation}\n",
    "\n",
    "\\begin{equation}\n",
    "r(i,j) = \\lVert x_i - x_j \\rVert\n",
    "\\end{equation}\n",
    "\n",
    "\\begin{equation}\n",
    "x_i(t+1) = x(t) + \\beta_0 e^{-\\gamma r^2} (x_j - x_i) + \\alpha \\epsilon\n",
    "\\end{equation}\n",
    "\n",
    "Here, $\\alpha$ is the parameter controlling the step, and $\\epsilon$ is a vector drawn from Gaussian distribution. The classical $FA$ chose $\\beta_0 = 1$ (Yang's Comments) and $\\alpha$ generated with uniform distribution in range $[0, 1]$   \n",
    "\n"
   ]
  },
  {
   "cell_type": "code",
   "execution_count": 87,
   "metadata": {},
   "outputs": [
    {
     "name": "stdout",
     "output_type": "stream",
     "text": [
      "[0. 0. 0. 0. 0. 0. 2. 0. 0. 0. 2. 0. 0. 0. 0. 0.]\n",
      "[0. 0. 2. 2. 2. 2. 2. 2. 2. 2. 2. 2. 2. 2. 2. 2.]\n",
      "[1. 1. 0. 0. 0. 0. 0. 0. 0. 0. 0. 0. 0. 0. 0. 0.]\n",
      "-0.9999999999999999\n",
      "0.9999999999999999\n"
     ]
    },
    {
     "data": {
      "image/png": "[encoded data removed]",
      "text/plain": [
       "<Figure size 432x288 with 3 Axes>"
      ]
     },
     "metadata": {
      "needs_background": "light"
     },
     "output_type": "display_data"
    }
   ],
   "source": [
    "import random\n",
    "\n",
    "# Initialize \n",
    "## Create the initial population of n fireflies within d-dimensional search space\n",
    "X = np.asarray(np.copy(B)).reshape(-1)\n",
    "d = len(X)\n",
    "n = int(round(d*1))\n",
    "A_vec = np.asarray(np.copy(A)).reshape(-1)\n",
    "\n",
    "## Formulate light intensity of each firefly so as to be associated with the fitness value f(x)\n",
    "I = NCC_mat(A_vec,X)\n",
    "I_max = NCC_mat(A_vec, A_vec)\n",
    "#print(X)\n",
    "#print(A_vec)\n",
    "## Define the parameters B_0 and gamma\n",
    "B0 = 1.0\n",
    "#r = 0.0\n",
    "gamma = 0.0\n",
    "\n",
    "# Perform\n",
    "criteria = 1\n",
    "success = False\n",
    "\n",
    "def UpdateX(xi, xj, B0, r):\n",
    "    alpha = random.uniform(0,1)\n",
    "    #epsilon = 0.001\n",
    "    epsilon = 0\n",
    "    return xi + B0*np.exp(-gamma*r**2)*(xj-xi)+alpha*epsilon\n",
    "print(X)\n",
    "#while success:\n",
    "for e in range(100):\n",
    "    for i in range(n): # TODO: This is not only rows\n",
    "        Ii = I[i]\n",
    "        for j in range(n): # TODO: This is not only columns\n",
    "            tempXi = np.copy(X)\n",
    "            Ij = I[j]\n",
    "            if Ij < Ii:                \n",
    "                r = np.sqrt(np.sum(X[i] - X[j])**2)\n",
    "                xi1 = UpdateX(X[i], X[j], B0, r)\n",
    "                #print(\"Updates. x_i: {0}, x_i1: {1}, x_j:{2}, a_i: {3}, lj: {4}, li: {5}\".format(X[i], xi1, X[j], A_vec[i], Ij, Ii))\n",
    "                X[i] = xi1\n",
    "            I = NCC_mat(A_vec,X)\n",
    "            #print(I)\n",
    "    #Rank fireflies and find the current best\n",
    "print(X)\n",
    "print(A_vec)\n",
    "newB = np.asarray(X).reshape(A.shape)\n",
    "# Plot images\n",
    "ax = plt.subplot(2,3,1)\n",
    "ax.imshow(A)\n",
    "ax = plt.subplot(2,3,2)\n",
    "ax.imshow(B)\n",
    "ax = plt.subplot(2,3,3)\n",
    "ax.imshow(newB)\n",
    "\n",
    "print(NCC_sum(A, newB))\n",
    "print(NCC_sum(A, A))\n",
    "\n"
   ]
  },
  {
   "cell_type": "code",
   "execution_count": 148,
   "metadata": {},
   "outputs": [
    {
     "name": "stdout",
     "output_type": "stream",
     "text": [
      "Values: tx=3, ty=3, theta=0.6251051772501406\n",
      "Gradients: tx=nan, ty=nan, theta=nan\n",
      "Episode: 0. Error: nan. Tx: nan\n",
      "nan\n",
      "Values: tx=nan, ty=nan, theta=nan\n"
     ]
    },
    {
     "name": "stderr",
     "output_type": "stream",
     "text": [
      "C:\\ProgramData\\Anaconda3\\lib\\site-packages\\ipykernel\\__main__.py:10: RuntimeWarning: invalid value encountered in true_divide\n"
     ]
    },
    {
     "ename": "ValueError",
     "evalue": "cannot convert float NaN to integer",
     "output_type": "error",
     "traceback": [
      "\u001b[1;31m---------------------------------------------------------------------------\u001b[0m",
      "\u001b[1;31mValueError\u001b[0m                                Traceback (most recent call last)",
      "\u001b[1;32m<ipython-input-148-8b2d46902d5e>\u001b[0m in \u001b[0;36m<module>\u001b[1;34m()\u001b[0m\n\u001b[0;32m     11\u001b[0m \u001b[1;32mfor\u001b[0m \u001b[0me\u001b[0m \u001b[1;32min\u001b[0m \u001b[0mrange\u001b[0m\u001b[1;33m(\u001b[0m\u001b[1;36m100\u001b[0m\u001b[1;33m)\u001b[0m\u001b[1;33m:\u001b[0m\u001b[1;33m\u001b[0m\u001b[0m\n\u001b[0;32m     12\u001b[0m     \u001b[0mprint\u001b[0m\u001b[1;33m(\u001b[0m\u001b[1;34m\"Values: tx={0}, ty={1}, theta={2}\"\u001b[0m\u001b[1;33m.\u001b[0m\u001b[0mformat\u001b[0m\u001b[1;33m(\u001b[0m\u001b[0mtx\u001b[0m\u001b[1;33m,\u001b[0m \u001b[0mty\u001b[0m\u001b[1;33m,\u001b[0m \u001b[0mtheta\u001b[0m\u001b[1;33m)\u001b[0m\u001b[1;33m)\u001b[0m\u001b[1;33m\u001b[0m\u001b[0m\n\u001b[1;32m---> 13\u001b[1;33m     \u001b[0mI\u001b[0m \u001b[1;33m=\u001b[0m \u001b[0mNCC_sum\u001b[0m\u001b[1;33m(\u001b[0m\u001b[0mA\u001b[0m\u001b[1;33m,\u001b[0m \u001b[0mDoTransformation\u001b[0m\u001b[1;33m(\u001b[0m\u001b[0mB\u001b[0m\u001b[1;33m,\u001b[0m \u001b[0mtx\u001b[0m\u001b[1;33m,\u001b[0m \u001b[0mty\u001b[0m\u001b[1;33m,\u001b[0m \u001b[0mtheta\u001b[0m\u001b[1;33m)\u001b[0m\u001b[1;33m)\u001b[0m\u001b[1;33m\u001b[0m\u001b[0m\n\u001b[0m\u001b[0;32m     14\u001b[0m     \u001b[0mtx_grad\u001b[0m \u001b[1;33m=\u001b[0m \u001b[1;33m(\u001b[0m\u001b[0mNCC_sum\u001b[0m\u001b[1;33m(\u001b[0m\u001b[0mA\u001b[0m\u001b[1;33m,\u001b[0m \u001b[0mDoTransformation\u001b[0m\u001b[1;33m(\u001b[0m\u001b[0mB\u001b[0m\u001b[1;33m,\u001b[0m \u001b[0mtx\u001b[0m \u001b[1;33m+\u001b[0m \u001b[0mh\u001b[0m\u001b[1;33m,\u001b[0m \u001b[0mty\u001b[0m\u001b[1;33m,\u001b[0m \u001b[0mtheta\u001b[0m\u001b[1;33m)\u001b[0m\u001b[1;33m)\u001b[0m \u001b[1;33m-\u001b[0m \u001b[0mNCC_sum\u001b[0m\u001b[1;33m(\u001b[0m\u001b[0mA\u001b[0m\u001b[1;33m,\u001b[0m \u001b[0mDoTransformation\u001b[0m\u001b[1;33m(\u001b[0m\u001b[0mB\u001b[0m\u001b[1;33m,\u001b[0m \u001b[0mtx\u001b[0m \u001b[1;33m-\u001b[0m \u001b[0mh\u001b[0m\u001b[1;33m,\u001b[0m \u001b[0mty\u001b[0m\u001b[1;33m,\u001b[0m \u001b[0mtheta\u001b[0m\u001b[1;33m)\u001b[0m\u001b[1;33m)\u001b[0m\u001b[1;33m)\u001b[0m \u001b[1;33m/\u001b[0m \u001b[1;33m(\u001b[0m\u001b[1;36m2\u001b[0m \u001b[1;33m*\u001b[0m \u001b[0mh\u001b[0m\u001b[1;33m)\u001b[0m\u001b[1;33m\u001b[0m\u001b[0m\n\u001b[0;32m     15\u001b[0m     \u001b[0mty_grad\u001b[0m \u001b[1;33m=\u001b[0m \u001b[1;33m(\u001b[0m\u001b[0mNCC_sum\u001b[0m\u001b[1;33m(\u001b[0m\u001b[0mA\u001b[0m\u001b[1;33m,\u001b[0m \u001b[0mDoTransformation\u001b[0m\u001b[1;33m(\u001b[0m\u001b[0mB\u001b[0m\u001b[1;33m,\u001b[0m \u001b[0mtx\u001b[0m\u001b[1;33m,\u001b[0m \u001b[0mty\u001b[0m \u001b[1;33m+\u001b[0m \u001b[0mh\u001b[0m\u001b[1;33m,\u001b[0m \u001b[0mtheta\u001b[0m\u001b[1;33m)\u001b[0m\u001b[1;33m)\u001b[0m \u001b[1;33m-\u001b[0m \u001b[0mNCC_sum\u001b[0m\u001b[1;33m(\u001b[0m\u001b[0mA\u001b[0m\u001b[1;33m,\u001b[0m \u001b[0mDoTransformation\u001b[0m\u001b[1;33m(\u001b[0m\u001b[0mB\u001b[0m\u001b[1;33m,\u001b[0m \u001b[0mtx\u001b[0m\u001b[1;33m,\u001b[0m \u001b[0mty\u001b[0m\u001b[1;33m-\u001b[0m\u001b[0mh\u001b[0m\u001b[1;33m,\u001b[0m \u001b[0mtheta\u001b[0m\u001b[1;33m)\u001b[0m\u001b[1;33m)\u001b[0m\u001b[1;33m)\u001b[0m \u001b[1;33m/\u001b[0m \u001b[1;33m(\u001b[0m\u001b[1;36m2\u001b[0m \u001b[1;33m*\u001b[0m \u001b[0mh\u001b[0m\u001b[1;33m)\u001b[0m\u001b[1;33m\u001b[0m\u001b[0m\n",
      "\u001b[1;32m<ipython-input-127-bbae02fbce40>\u001b[0m in \u001b[0;36mDoTransformation\u001b[1;34m(B, tx, ty, theta)\u001b[0m\n\u001b[0;32m      5\u001b[0m             \u001b[0mvalue\u001b[0m \u001b[1;33m=\u001b[0m \u001b[0mB\u001b[0m\u001b[1;33m[\u001b[0m\u001b[0mi\u001b[0m\u001b[1;33m,\u001b[0m\u001b[0mj\u001b[0m\u001b[1;33m]\u001b[0m\u001b[1;33m\u001b[0m\u001b[0m\n\u001b[0;32m      6\u001b[0m             \u001b[1;31m#TODO Interpolate\u001b[0m\u001b[1;33m\u001b[0m\u001b[1;33m\u001b[0m\u001b[0m\n\u001b[1;32m----> 7\u001b[1;33m             \u001b[0mpositionX\u001b[0m \u001b[1;33m=\u001b[0m \u001b[0mint\u001b[0m\u001b[1;33m(\u001b[0m\u001b[0mnp\u001b[0m\u001b[1;33m.\u001b[0m\u001b[0mcos\u001b[0m\u001b[1;33m(\u001b[0m\u001b[0mtheta\u001b[0m\u001b[1;33m)\u001b[0m\u001b[1;33m*\u001b[0m\u001b[0mi\u001b[0m \u001b[1;33m-\u001b[0m \u001b[0mnp\u001b[0m\u001b[1;33m.\u001b[0m\u001b[0msin\u001b[0m\u001b[1;33m(\u001b[0m\u001b[0mtheta\u001b[0m\u001b[1;33m)\u001b[0m\u001b[1;33m*\u001b[0m\u001b[0mj\u001b[0m \u001b[1;33m+\u001b[0m \u001b[0mtx\u001b[0m\u001b[1;33m)\u001b[0m\u001b[1;33m\u001b[0m\u001b[0m\n\u001b[0m\u001b[0;32m      8\u001b[0m             \u001b[0mpositionY\u001b[0m \u001b[1;33m=\u001b[0m \u001b[0mint\u001b[0m\u001b[1;33m(\u001b[0m\u001b[0mnp\u001b[0m\u001b[1;33m.\u001b[0m\u001b[0msin\u001b[0m\u001b[1;33m(\u001b[0m\u001b[0mtheta\u001b[0m\u001b[1;33m)\u001b[0m\u001b[1;33m*\u001b[0m\u001b[0mi\u001b[0m \u001b[1;33m+\u001b[0m \u001b[0mnp\u001b[0m\u001b[1;33m.\u001b[0m\u001b[0mcos\u001b[0m\u001b[1;33m(\u001b[0m\u001b[0mtheta\u001b[0m\u001b[1;33m)\u001b[0m\u001b[1;33m*\u001b[0m\u001b[0mj\u001b[0m \u001b[1;33m+\u001b[0m \u001b[0mty\u001b[0m\u001b[1;33m)\u001b[0m\u001b[1;33m\u001b[0m\u001b[0m\n\u001b[0;32m      9\u001b[0m \u001b[1;33m\u001b[0m\u001b[0m\n",
      "\u001b[1;31mValueError\u001b[0m: cannot convert float NaN to integer"
     ]
    }
   ],
   "source": [
    "#Inialize: Identity transformation\n",
    "a = 1\n",
    "b = 0\n",
    "tx = 0\n",
    "ty = 0\n",
    "\n",
    "\n",
    "# Repeat\n",
    "\n",
    "for e in range(100):\n",
    "    \n",
    "\n",
    "\n",
    "# Compute gradient\n",
    "# Make step in gradient direction\n",
    "# Update mapping equation\n",
    "# Remap image\n",
    "# Until convergence\n",
    "\n",
    "\n",
    "h = 1\n",
    "alpha_grad = 1e-5\n",
    "alpha = 1\n",
    "\n",
    "I_max = NCC_sum(A, A)\n",
    "\n",
    "for e in range(100):    \n",
    "    print(\"Values: tx={0}, ty={1}, theta={2}\".format(tx, ty, theta))\n",
    "    I = NCC_sum(A, DoTransformation(B, tx, ty, theta))\n",
    "    tx_grad = (NCC_sum(A, DoTransformation(B, tx + h, ty, theta)) - NCC_sum(A, DoTransformation(B, tx - h, ty, theta))) / (2 * h)\n",
    "    ty_grad = (NCC_sum(A, DoTransformation(B, tx, ty + h, theta)) - NCC_sum(A, DoTransformation(B, tx, ty-h, theta))) / (2 * h)\n",
    "    theta_grad = (NCC_sum(A, DoTransformation(B, tx, ty, theta + h)) - NCC_sum(A, DoTransformation(B, tx, ty, theta - h))) / (2 * h)\n",
    "    \n",
    "    print(\"Gradients: tx={0}, ty={1}, theta={2}\".format(tx_grad, ty_grad, theta_grad))\n",
    "    tx = tx - alpha * tx_grad\n",
    "    ty = ty - alpha * ty_grad\n",
    "    theta = theta - alpha_grad * theta_grad\n",
    "    print(\"Episode: {0}. Error: {1}. Tx: {2}\".format(e, I_max - I, tx))\n",
    "    print(tx_grad)\n",
    "    \n",
    "print(theta)\n",
    "print(tx)\n",
    "print(ty)"
   ]
  },
  {
   "cell_type": "code",
   "execution_count": null,
   "metadata": {},
   "outputs": [],
   "source": []
  },
  {
   "cell_type": "code",
   "execution_count": 129,
   "metadata": {},
   "outputs": [
    {
     "name": "stdout",
     "output_type": "stream",
     "text": [
      "[[0. 0. 0. 0.]\n",
      " [0. 0. 2. 0.]\n",
      " [0. 0. 2. 0.]\n",
      " [0. 0. 0. 0.]]\n",
      "[[0. 0. 0. 0.]\n",
      " [0. 0. 0. 0.]\n",
      " [0. 0. 2. 0.]\n",
      " [0. 0. 2. 0.]]\n"
     ]
    }
   ],
   "source": [
    "theta = 0\n",
    "tx = 1\n",
    "ty = 0\n",
    "T = np.array([[np.cos(theta), -np.sin(theta), tx], [np.sin(theta), np.cos(theta), ty], [0, 0, 1]])\n",
    "\n",
    "print(B)\n",
    "C = DoTransformation(B, tx, ty, theta)\n",
    "print(C)"
   ]
  },
  {
   "cell_type": "code",
   "execution_count": 127,
   "metadata": {},
   "outputs": [],
   "source": [
    "def DoTransformation(B, tx, ty, theta):\n",
    "    result = np.zeros(B.shape)\n",
    "    for i in range(B.shape[0]):\n",
    "        for j in range(B.shape[1]):     \n",
    "            value = B[i,j]        \n",
    "            #TODO Interpolate\n",
    "            positionX = int(np.cos(theta)*i - np.sin(theta)*j + tx)\n",
    "            positionY = int(np.sin(theta)*i + np.cos(theta)*j + ty)\n",
    "        \n",
    "            #TODO padding        \n",
    "            if positionX > result.shape[0] - 1 or positionX < 0:\n",
    "                continue\n",
    "            if positionY > result.shape[1] - 1 or positionY < 0:            \n",
    "                continue        \n",
    "            #print(\"X: {0} -> {1}, Y: {2} -> {3}, value: {4}\".format(i, positionX, j, positionY, value))\n",
    "            result[positionX,positionY] = value\n",
    "    return result\n",
    "\n"
   ]
  },
  {
   "cell_type": "code",
   "execution_count": null,
   "metadata": {},
   "outputs": [],
   "source": []
  },
  {
   "cell_type": "code",
   "execution_count": 119,
   "metadata": {},
   "outputs": [
    {
     "name": "stdout",
     "output_type": "stream",
     "text": [
      "Hej\n",
      "4\n"
     ]
    }
   ],
   "source": [
    "x = 2\n",
    "y = 3\n",
    "positionX = int(np.cos(0)*x - np.sin(0)*y + -1)\n",
    "positionY = int(np.sin(0)*x + np.cos(0)*y + 1)\n",
    "if positionY > result.shape[1] - 1 or positionY < 0:\n",
    "    print(\"Hej\")\n",
    "print(positionY)"
   ]
  },
  {
   "cell_type": "code",
   "execution_count": 78,
   "metadata": {},
   "outputs": [
    {
     "name": "stdout",
     "output_type": "stream",
     "text": [
      "[0. 0. 0. 0.]\n",
      "[0. 0. 0. 2.]\n",
      "[0. 0. 2. 0.]\n",
      "[0. 0. 0. 2.]\n",
      "[[0. 0. 0. 0.]\n",
      " [0. 0. 0. 2.]\n",
      " [0. 0. 2. 0.]\n",
      " [0. 0. 0. 2.]]\n"
     ]
    }
   ],
   "source": [
    "print(B[0,:])\n",
    "print(B[1,:])\n",
    "print(B[2,:])\n",
    "print(B[3,:])\n",
    "print(B)\n"
   ]
  }
 ],
 "metadata": {
  "kernelspec": {
   "display_name": "Python [default]",
   "language": "python",
   "name": "python3"
  },
  "language_info": {
   "codemirror_mode": {
    "name": "ipython",
    "version": 3
   },
   "file_extension": ".py",
   "mimetype": "text/x-python",
   "name": "python",
   "nbconvert_exporter": "python",
   "pygments_lexer": "ipython3",
   "version": "3.5.6"
  }
 },
 "nbformat": 4,
 "nbformat_minor": 2
}
