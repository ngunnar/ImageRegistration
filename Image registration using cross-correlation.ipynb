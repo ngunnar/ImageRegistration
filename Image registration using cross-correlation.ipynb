{
 "cells": [
  {
   "cell_type": "markdown",
   "metadata": {},
   "source": [
    "## Introduction"
   ]
  },
  {
   "cell_type": "code",
   "execution_count": 41,
   "metadata": {},
   "outputs": [
    {
     "data": {
      "text/plain": [
       "<matplotlib.image.AxesImage at 0x2dff1690320>"
      ]
     },
     "execution_count": 41,
     "metadata": {},
     "output_type": "execute_result"
    },
    {
     "data": {
      "image/png": "[encoded data removed]",
      "text/plain": [
       "<Figure size 432x288 with 2 Axes>"
      ]
     },
     "metadata": {
      "needs_background": "light"
     },
     "output_type": "display_data"
    }
   ],
   "source": [
    "import numpy as np\n",
    "import matplotlib.pyplot as plt\n",
    "import pydicom\n",
    "from pydicom.data import get_testdata_files\n",
    "\n",
    "# Dataset\n",
    "A = np.array([[1, 0, 1, 0], [0, 1, 0, 0],[0, 0, 0, 0], [0,0,0,0]], dtype=float)\n",
    "B = np.array([[0, 0, 0, 0], [0, 0, 0, 2],[0, 0, 2, 0], [0,0,0,2]], dtype=float)\n",
    "\n",
    "#filename = get_testdata_files(\"MR_small.dcm\")[0]\n",
    "#dataset = pydicom.read_file(filename)\n",
    "#A = np.array(dataset.pixel_array, copy=True)\n",
    "#rollx = 10\n",
    "#rolly = 0\n",
    "#B = np.copy(A)\n",
    "#B = np.roll(B, rollx, axis=0)\n",
    "#B = np.roll(B, rolly, axis=1)\n",
    "\n",
    "\n",
    "# Plot images\n",
    "ax = plt.subplot(2,2,1)\n",
    "ax.imshow(A)\n",
    "\n",
    "ax = plt.subplot(2,2,2)\n",
    "ax.imshow(B)"
   ]
  },
  {
   "cell_type": "markdown",
   "metadata": {},
   "source": [
    "\n",
    "\n",
    "## Optimization model\n",
    "Normalized cross correlation ($NCC$). If $A$ is the reference image and $B$ is input image, the object of image registration is to bring the input image into alignment by applying a spartial transformation to the input image,\n",
    "\n",
    "\\begin{equation}\n",
    "T^* = \\underset{T} {\\text{arg max}} S\\{A,T[B]\\}\n",
    "\\end{equation}\n",
    "\n",
    "$S$ represents the measurement of similarity, $T$ represents the transformation matrix, The aim is to find $S$ similiarity between the images. \n",
    "\n",
    "\\begin{equation}\n",
    "T =\n",
    "\\begin{bmatrix}\n",
    "   \\cos{\\theta} & -\\sin{\\theta} & t_x \\\\\n",
    "   \\sin{\\theta} & \\cos{\\theta} & t_y \\\\\n",
    "   0 & 0 & 1\n",
    "   \\end{bmatrix}\n",
    "\\end{equation}\n",
    "\n",
    "By using $NCC$ similarity and rigid transformation model (which consists of two translation parameters $t_x$ and $t_y$ and one rotation parameter $\\theta$) the $NCC$ will look like\n",
    "\n",
    "\\begin{equation}\n",
    "NCC(A,B) = \\dfrac{1}{N} \\sum_{(x,y)}{ \\dfrac{(A-\\mu_A)(B-\\mu_B)}{\\sigma_A \\sigma_B}}\n",
    "\\end{equation}\n",
    "\n",
    "where $N$ denotes the total number of pixels in image $A$ and $B$, $\\mu_A$ and $\\mu_B$ denote the average of the images, and $\\sigma_A$ and $\\sigma_B$ denote the standard deviation. Therefore, the model can be rewritten as\n",
    "\n",
    "\\begin{equation}\n",
    "T^* = \\underset{t_x, t_y, \\theta} {\\text{arg max}} NCC(A,T(B)) = \n",
    " \\dfrac{1}{N} \\underset{t_x, t_y, \\theta} {\\text{arg max}} \\sum_{(x,y)}{ \\dfrac{(A-\\mu_A)(T(B)-\\mu_{T(B)})}{\\sigma_A \\sigma_{T(B)}}}\n",
    "\\end{equation}\n"
   ]
  },
  {
   "cell_type": "code",
   "execution_count": 11,
   "metadata": {},
   "outputs": [
    {
     "name": "stdout",
     "output_type": "stream",
     "text": [
      "[[0.125 0.125 0.125]\n",
      " [0.125 8.    0.125]\n",
      " [0.125 0.125 0.125]]\n",
      "[[0.125 0.125 0.125]\n",
      " [0.125 0.125 0.125]\n",
      " [0.125 0.125 8.   ]]\n",
      "[[0.125 0.125 0.125]\n",
      " [0.125 8.    0.125]\n",
      " [0.125 0.125 0.125]]\n",
      "[[-0.125 -0.125 -0.125]\n",
      " [-0.125 -8.    -0.125]\n",
      " [-0.125 -0.125 -0.125]]\n"
     ]
    }
   ],
   "source": [
    "def NCC_sum(A, B):\n",
    "    assert(A.shape == B.shape)\n",
    "    muA = np.mean(A)\n",
    "    muB = np.mean(B)\n",
    "    sigmaA = np.std(A)\n",
    "    sigmaB = np.std(B)\n",
    "    #A_vec = np.asarray(A).reshape(-1)\n",
    "    #B_vec = np.asarray(B).reshape(-1)\n",
    "    N =  np.size(A)\n",
    "    return 1/N * np.sum((A-muA)*(B-muB)/(sigmaA*sigmaB))\n",
    "    #ncc_1 = 1/N * (A_vec-muA).dot((B_vec-muB).T) / (sigmaA * sigmaB)\n",
    "    #ncc = 0\n",
    "    #for i in range(N):\n",
    "    #    ncc = ncc + NCC(A_vec[i], B_vec[i], muA, muB, sigmaA, sigmaB)\n",
    "    #return ncc / N\n",
    "\n",
    "def NCC_mat(A, B):\n",
    "    muA = np.mean(A)\n",
    "    muB = np.mean(B)\n",
    "    sigmaA = np.std(A)\n",
    "    sigmaB = np.std(B)\n",
    "    return (A-muA)*(B-muB)/(sigmaA*sigmaB)\n",
    "#def NCC(a, b, muA, muB, sigmaA, sigmaB):    \n",
    "#    return (a-muA)*(b-muB)/(sigmaA * sigmaB)\n",
    "\n",
    "print(NCC_mat(A,A))\n",
    "print(NCC_mat(B,B))\n",
    "C = np.array([[1,1,1], [1,0,1], [1,1,1]], dtype='float')\n",
    "print(NCC_mat(C,C))\n",
    "print(NCC_mat(A,C))"
   ]
  },
  {
   "cell_type": "markdown",
   "metadata": {},
   "source": [
    "## Optimization algorithm\n",
    "\n",
    "### Firefly algorithm\n",
    "\n",
    "Nature inspired algorithm based on flashing behaviors of firefly swarm. The primary purpose for the flash is to signal tha attract other fireflies.\n",
    "\n",
    "Three rules:\n",
    "1. All fireflies are unisex so that on firefly will be attacted to other fireflies regarding to their sex\n",
    "2. An important and interesting behavior fo fireflies is to flow brigher mainly to attract pray an the share food with others.\n",
    "3. Attractiveness is proportinal to their brigthness, thus agent firstly moves toward a neightbor that glows brighter.\n",
    "\n",
    "The fireflies are randomly distributed in the search space. The fireflies carry a luminescence quality, called liciferin, which emits lighter propotional to quality. Each firefly is attracted by lighter glow of other approximated fireflies. The attractiveness decreases as their distance increases. If there is no brighter one within the scope of a firefly, it will move randomly in the search space. In this application the decision variables are the three spatial tranform parameters $t_x$, $t_y$ and $\\theta$. The brightness is associated as the objective function which maximum the $NCC$. The procedure is typed into two phases, variation of light intensit and movement towards attractive flies.\n",
    "\n",
    "#### Variation of light intensity\n",
    "\n",
    "\\begin{equation}\n",
    "I_i = f(x_i), 1\\leq i \\leq n\n",
    "\\end{equation}\n",
    "\n",
    "#### Movement towards attractive flies\n",
    "\n",
    "\\begin{equation}\n",
    "\\beta_r(i,j) = \\beta_0 e^{-\\gamma r(i.j)^2}\n",
    "\\end{equation}\n",
    "\n",
    "\\begin{equation}\n",
    "r(i,j) = \\lVert x_i - x_j \\rVert\n",
    "\\end{equation}\n",
    "\n",
    "\\begin{equation}\n",
    "x_i(t+1) = x(t) + \\beta_0 e^{-\\gamma r^2} (x_j - x_i) + \\alpha \\epsilon\n",
    "\\end{equation}\n",
    "\n",
    "Here, $\\alpha$ is the parameter controlling the step, and $\\epsilon$ is a vector drawn from Gaussian distribution. The classical $FA$ chose $\\beta_0 = 1$ (Yang's Comments) and $\\alpha$ generated with uniform distribution in range $[0, 1]$   \n",
    "\n"
   ]
  },
  {
   "cell_type": "code",
   "execution_count": 46,
   "metadata": {},
   "outputs": [
    {
     "name": "stdout",
     "output_type": "stream",
     "text": [
      "[0. 0. 0. 0. 0. 0. 0. 2. 0. 0. 2. 0. 0. 0. 0. 2.]\n",
      "[0. 2. 0. 2. 2. 0. 2. 2. 2. 2. 2. 2. 2. 2. 2. 2.]\n",
      "[1. 0. 1. 0. 0. 1. 0. 0. 0. 0. 0. 0. 0. 0. 0. 0.]\n"
     ]
    },
    {
     "data": {
      "text/plain": [
       "<matplotlib.image.AxesImage at 0x2dff19648d0>"
      ]
     },
     "execution_count": 46,
     "metadata": {},
     "output_type": "execute_result"
    },
    {
     "data": {
      "image/png": "[encoded data removed]",
      "text/plain": [
       "<Figure size 432x288 with 2 Axes>"
      ]
     },
     "metadata": {
      "needs_background": "light"
     },
     "output_type": "display_data"
    }
   ],
   "source": [
    "import random\n",
    "\n",
    "# Initialize \n",
    "## Create the initial population of n fireflies within d-dimensional search space\n",
    "X = np.asarray(np.copy(B)).reshape(-1)\n",
    "d = len(X)\n",
    "n = d\n",
    "A_vec = np.asarray(np.copy(A)).reshape(-1)\n",
    "\n",
    "## Formulate light intensity of each firefly so as to be associated with the fitness value f(x)\n",
    "I = NCC_mat(A_vec,X)\n",
    "I_max = NCC_mat(A_vec, A_vec)\n",
    "#print(X)\n",
    "#print(A_vec)\n",
    "## Define the parameters B_0 and gamma\n",
    "B0 = 1.0\n",
    "#r = 0.0\n",
    "gamma = 0.0\n",
    "\n",
    "# Perform\n",
    "criteria = 1\n",
    "success = False\n",
    "\n",
    "def UpdateX(xi, xj, B0, r):\n",
    "    alpha = random.uniform(0,1)\n",
    "    #epsilon = 0.001\n",
    "    epsilon = 0\n",
    "    return xi + B0*np.exp(-gamma*r**2)*(xj-xi)+alpha*epsilon\n",
    "print(X)\n",
    "#while success:\n",
    "for e in range(10):\n",
    "    for i in range(n): # TODO: This is not only rows\n",
    "        Ii = I[i]\n",
    "        for j in range(n): # TODO: This is not only columns\n",
    "            tempXi = np.copy(X)\n",
    "            Ij = I[j]\n",
    "            if Ij < Ii:                \n",
    "                r = np.sqrt(np.sum(X[i] - X[j])**2)\n",
    "                xi1 = UpdateX(X[i], X[j], B0, r)\n",
    "                #print(\"Updates. x_i: {0}, x_i1: {1}, x_j:{2}, a_i: {3}, lj: {4}, li: {5}\".format(X[i], xi1, X[j], A_vec[i], Ij, Ii))\n",
    "                X[i] = xi1\n",
    "            I = NCC_mat(A_vec,X)\n",
    "            #print(I)\n",
    "    #Rank fireflies and find the current best\n",
    "print(X)\n",
    "print(A_vec)\n",
    "# Plot images\n",
    "ax = plt.subplot(2,2,1)\n",
    "ax.imshow(A)\n",
    "\n",
    "ax = plt.subplot(2,2,2)\n",
    "ax.imshow(np.asarray(X).reshape(A.shape))"
   ]
  },
  {
   "cell_type": "code",
   "execution_count": 18,
   "metadata": {},
   "outputs": [
    {
     "name": "stdout",
     "output_type": "stream",
     "text": [
      "Help on method uniform in module random:\n",
      "\n",
      "uniform(a, b) method of random.Random instance\n",
      "    Get a random number in the range [a, b) or [a, b] depending on rounding.\n",
      "\n"
     ]
    },
    {
     "data": {
      "text/plain": [
       "0.7123194551734122"
      ]
     },
     "execution_count": 18,
     "metadata": {},
     "output_type": "execute_result"
    }
   ],
   "source": [
    "import random\n",
    "help(random.uniform)\n",
    "random.uniform(0,1)"
   ]
  }
 ],
 "metadata": {
  "kernelspec": {
   "display_name": "Python 3",
   "language": "python",
   "name": "python3"
  },
  "language_info": {
   "codemirror_mode": {
    "name": "ipython",
    "version": 3
   },
   "file_extension": ".py",
   "mimetype": "text/x-python",
   "name": "python",
   "nbconvert_exporter": "python",
   "pygments_lexer": "ipython3",
   "version": "3.6.7"
  }
 },
 "nbformat": 4,
 "nbformat_minor": 2
}
